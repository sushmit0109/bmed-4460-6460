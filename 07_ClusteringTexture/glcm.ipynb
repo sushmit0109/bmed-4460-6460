{
 "cells": [
  {
   "cell_type": "code",
   "execution_count": 68,
   "metadata": {},
   "outputs": [],
   "source": [
    "# ******************************************\n",
    "# yanrpi @2018\n",
    "# ******************************************\n",
    "\n",
    "import matplotlib.pyplot as plt\n",
    "\n",
    "import numpy as np\n",
    "\n",
    "from skimage import io\n",
    "from skimage.feature import greycomatrix, greycoprops\n",
    "\n",
    "from sklearn.cluster import KMeans\n",
    "from sklearn.metrics import accuracy_score\n",
    "\n",
    "import os\n",
    "from os import path"
   ]
  },
  {
   "cell_type": "code",
   "execution_count": 85,
   "metadata": {},
   "outputs": [
    {
     "name": "stdout",
     "output_type": "stream",
     "text": [
      "(120,)\n",
      "['./ct_us/train/train_1.png', './ct_us/train/train_2.png', './ct_us/train/train_3.png', './ct_us/train/train_4.png', './ct_us/train/train_5.png', './ct_us/train/train_6.png', './ct_us/train/train_7.png', './ct_us/train/train_8.png', './ct_us/train/train_9.png', './ct_us/train/train_10.png', './ct_us/train/train_11.png', './ct_us/train/train_12.png', './ct_us/train/train_13.png', './ct_us/train/train_14.png', './ct_us/train/train_15.png', './ct_us/train/train_16.png', './ct_us/train/train_17.png', './ct_us/train/train_18.png', './ct_us/train/train_19.png', './ct_us/train/train_20.png', './ct_us/train/train_21.png', './ct_us/train/train_22.png', './ct_us/train/train_23.png', './ct_us/train/train_24.png', './ct_us/train/train_25.png', './ct_us/train/train_26.png', './ct_us/train/train_27.png', './ct_us/train/train_28.png', './ct_us/train/train_29.png', './ct_us/train/train_30.png', './ct_us/train/train_31.png', './ct_us/train/train_32.png', './ct_us/train/train_33.png', './ct_us/train/train_34.png', './ct_us/train/train_35.png', './ct_us/train/train_36.png', './ct_us/train/train_37.png', './ct_us/train/train_38.png', './ct_us/train/train_39.png', './ct_us/train/train_40.png', './ct_us/train/train_41.png', './ct_us/train/train_42.png', './ct_us/train/train_43.png', './ct_us/train/train_44.png', './ct_us/train/train_45.png', './ct_us/train/train_46.png', './ct_us/train/train_47.png', './ct_us/train/train_48.png', './ct_us/train/train_49.png', './ct_us/train/train_50.png', './ct_us/train/train_51.png', './ct_us/train/train_52.png', './ct_us/train/train_53.png', './ct_us/train/train_54.png', './ct_us/train/train_55.png', './ct_us/train/train_56.png', './ct_us/train/train_57.png', './ct_us/train/train_58.png', './ct_us/train/train_59.png', './ct_us/train/train_60.png', './ct_us/train/train_61.png', './ct_us/train/train_62.png', './ct_us/train/train_63.png', './ct_us/train/train_64.png', './ct_us/train/train_65.png', './ct_us/train/train_66.png', './ct_us/train/train_67.png', './ct_us/train/train_68.png', './ct_us/train/train_69.png', './ct_us/train/train_70.png']\n"
     ]
    }
   ],
   "source": [
    "label_train = np.loadtxt('./ct_us/train.txt', dtype='int')\n",
    "print(label_train.shape)\n",
    "number_of_training = label_train.shape[0]\n",
    "\n",
    "folder_train = './ct_us/train'\n",
    "\n",
    "filenames = [path.join(folder_train, 'train_{}.png'.format(i+1)) for i in range(number_of_training)]\n",
    "print(filenames_ct)\n"
   ]
  },
  {
   "cell_type": "code",
   "execution_count": 160,
   "metadata": {},
   "outputs": [
    {
     "name": "stdout",
     "output_type": "stream",
     "text": [
      "0 255\n",
      "(256, 256, 3, 4)\n"
     ]
    },
    {
     "data": {
      "image/png": "[encoded data removed]",
      "text/plain": [
       "<Figure size 432x288 with 1 Axes>"
      ]
     },
     "metadata": {
      "needs_background": "light"
     },
     "output_type": "display_data"
    },
    {
     "data": {
      "image/png": "[encoded data removed]",
      "text/plain": [
       "<Figure size 432x288 with 12 Axes>"
      ]
     },
     "metadata": {
      "needs_background": "light"
     },
     "output_type": "display_data"
    }
   ],
   "source": [
    "image = io.imread(filenames[7])\n",
    "plt.imshow(image, cmap='gray')\n",
    "print(image.min(), image.max())\n",
    "\n",
    "# https://scikit-image.org/docs/dev/api/skimage.feature.html?highlight=greycomatrix#skimage.feature.greycomatrix\n",
    "comat = greycomatrix(image, [1,2,3], [0, np.pi/4, np.pi/2, 3*np.pi/4], normed=True, symmetric=True)\n",
    "print(comat.shape)\n",
    "\n",
    "#print(comat[:,:,0,0])\n",
    "\n",
    "plt.figure()\n",
    "for i in range(3):\n",
    "    for j in range(4):\n",
    "        plt.subplot(3,4, i*4 + j + 1)\n",
    "        plt.imshow(comat[:,:,i,j])"
   ]
  },
  {
   "cell_type": "code",
   "execution_count": 87,
   "metadata": {},
   "outputs": [
    {
     "name": "stdout",
     "output_type": "stream",
     "text": [
      "(3, 4)\n",
      "[[1164.06979167  625.83350676  723.69895833  626.46097815]\n",
      " [1463.83836207 1151.97666667 1015.02047414 1121.37666667]\n",
      " [1601.04464286 1363.74554102 1106.97433036 1331.75980975]]\n",
      "[[0.02591637 0.02589985 0.02572727 0.02598333]\n",
      " [0.02571573 0.0262702  0.02592933 0.0262702 ]\n",
      " [0.02612656 0.02654829 0.02668088 0.02691851]]\n"
     ]
    }
   ],
   "source": [
    "# https://scikit-image.org/docs/dev/api/skimage.feature.html?highlight=greycoprops#skimage.feature.greycoprops\n",
    "contrast = greycoprops(comat, 'contrast')\n",
    "energy = greycoprops(comat, 'energy')\n",
    "\n",
    "print(contrast.shape)\n",
    "print(contrast)\n",
    "print(energy)"
   ]
  },
  {
   "cell_type": "code",
   "execution_count": 147,
   "metadata": {},
   "outputs": [
    {
     "name": "stdout",
     "output_type": "stream",
     "text": [
      "Analyzing image ./ct_us/train/train_1.png\n",
      "Analyzing image ./ct_us/train/train_2.png\n",
      "Analyzing image ./ct_us/train/train_3.png\n",
      "Analyzing image ./ct_us/train/train_4.png\n",
      "Analyzing image ./ct_us/train/train_5.png\n",
      "Analyzing image ./ct_us/train/train_6.png\n",
      "Analyzing image ./ct_us/train/train_7.png\n",
      "Analyzing image ./ct_us/train/train_8.png\n",
      "Analyzing image ./ct_us/train/train_9.png\n",
      "Analyzing image ./ct_us/train/train_10.png\n",
      "Analyzing image ./ct_us/train/train_11.png\n",
      "Analyzing image ./ct_us/train/train_12.png\n",
      "Analyzing image ./ct_us/train/train_13.png\n",
      "Analyzing image ./ct_us/train/train_14.png\n",
      "Analyzing image ./ct_us/train/train_15.png\n",
      "Analyzing image ./ct_us/train/train_16.png\n",
      "Analyzing image ./ct_us/train/train_17.png\n",
      "Analyzing image ./ct_us/train/train_18.png\n",
      "Analyzing image ./ct_us/train/train_19.png\n",
      "Analyzing image ./ct_us/train/train_20.png\n",
      "Analyzing image ./ct_us/train/train_21.png\n",
      "Analyzing image ./ct_us/train/train_22.png\n",
      "Analyzing image ./ct_us/train/train_23.png\n",
      "Analyzing image ./ct_us/train/train_24.png\n",
      "Analyzing image ./ct_us/train/train_25.png\n",
      "Analyzing image ./ct_us/train/train_26.png\n",
      "Analyzing image ./ct_us/train/train_27.png\n",
      "Analyzing image ./ct_us/train/train_28.png\n",
      "Analyzing image ./ct_us/train/train_29.png\n",
      "Analyzing image ./ct_us/train/train_30.png\n",
      "Analyzing image ./ct_us/train/train_31.png\n",
      "Analyzing image ./ct_us/train/train_32.png\n",
      "Analyzing image ./ct_us/train/train_33.png\n",
      "Analyzing image ./ct_us/train/train_34.png\n",
      "Analyzing image ./ct_us/train/train_35.png\n",
      "Analyzing image ./ct_us/train/train_36.png\n",
      "Analyzing image ./ct_us/train/train_37.png\n",
      "Analyzing image ./ct_us/train/train_38.png\n",
      "Analyzing image ./ct_us/train/train_39.png\n",
      "Analyzing image ./ct_us/train/train_40.png\n",
      "Analyzing image ./ct_us/train/train_41.png\n",
      "Analyzing image ./ct_us/train/train_42.png\n",
      "Analyzing image ./ct_us/train/train_43.png\n",
      "Analyzing image ./ct_us/train/train_44.png\n",
      "Analyzing image ./ct_us/train/train_45.png\n",
      "Analyzing image ./ct_us/train/train_46.png\n",
      "Analyzing image ./ct_us/train/train_47.png\n",
      "Analyzing image ./ct_us/train/train_48.png\n",
      "Analyzing image ./ct_us/train/train_49.png\n",
      "Analyzing image ./ct_us/train/train_50.png\n",
      "Analyzing image ./ct_us/train/train_51.png\n",
      "Analyzing image ./ct_us/train/train_52.png\n",
      "Analyzing image ./ct_us/train/train_53.png\n",
      "Analyzing image ./ct_us/train/train_54.png\n",
      "Analyzing image ./ct_us/train/train_55.png\n",
      "Analyzing image ./ct_us/train/train_56.png\n",
      "Analyzing image ./ct_us/train/train_57.png\n",
      "Analyzing image ./ct_us/train/train_58.png\n",
      "Analyzing image ./ct_us/train/train_59.png\n",
      "Analyzing image ./ct_us/train/train_60.png\n",
      "Analyzing image ./ct_us/train/train_61.png\n",
      "Analyzing image ./ct_us/train/train_62.png\n",
      "Analyzing image ./ct_us/train/train_63.png\n",
      "Analyzing image ./ct_us/train/train_64.png\n",
      "Analyzing image ./ct_us/train/train_65.png\n",
      "Analyzing image ./ct_us/train/train_66.png\n",
      "Analyzing image ./ct_us/train/train_67.png\n",
      "Analyzing image ./ct_us/train/train_68.png\n",
      "Analyzing image ./ct_us/train/train_69.png\n",
      "Analyzing image ./ct_us/train/train_70.png\n",
      "Analyzing image ./ct_us/train/train_71.png\n",
      "Analyzing image ./ct_us/train/train_72.png\n",
      "Analyzing image ./ct_us/train/train_73.png\n",
      "Analyzing image ./ct_us/train/train_74.png\n",
      "Analyzing image ./ct_us/train/train_75.png\n",
      "Analyzing image ./ct_us/train/train_76.png\n",
      "Analyzing image ./ct_us/train/train_77.png\n",
      "Analyzing image ./ct_us/train/train_78.png\n",
      "Analyzing image ./ct_us/train/train_79.png\n",
      "Analyzing image ./ct_us/train/train_80.png\n",
      "Analyzing image ./ct_us/train/train_81.png\n",
      "Analyzing image ./ct_us/train/train_82.png\n",
      "Analyzing image ./ct_us/train/train_83.png\n",
      "Analyzing image ./ct_us/train/train_84.png\n",
      "Analyzing image ./ct_us/train/train_85.png\n",
      "Analyzing image ./ct_us/train/train_86.png\n",
      "Analyzing image ./ct_us/train/train_87.png\n",
      "Analyzing image ./ct_us/train/train_88.png\n",
      "Analyzing image ./ct_us/train/train_89.png\n",
      "Analyzing image ./ct_us/train/train_90.png\n",
      "Analyzing image ./ct_us/train/train_91.png\n",
      "Analyzing image ./ct_us/train/train_92.png\n",
      "Analyzing image ./ct_us/train/train_93.png\n",
      "Analyzing image ./ct_us/train/train_94.png\n",
      "Analyzing image ./ct_us/train/train_95.png\n",
      "Analyzing image ./ct_us/train/train_96.png\n",
      "Analyzing image ./ct_us/train/train_97.png\n",
      "Analyzing image ./ct_us/train/train_98.png\n",
      "Analyzing image ./ct_us/train/train_99.png\n",
      "Analyzing image ./ct_us/train/train_100.png\n",
      "Analyzing image ./ct_us/train/train_101.png\n",
      "Analyzing image ./ct_us/train/train_102.png\n",
      "Analyzing image ./ct_us/train/train_103.png\n",
      "Analyzing image ./ct_us/train/train_104.png\n",
      "Analyzing image ./ct_us/train/train_105.png\n",
      "Analyzing image ./ct_us/train/train_106.png\n",
      "Analyzing image ./ct_us/train/train_107.png\n",
      "Analyzing image ./ct_us/train/train_108.png\n",
      "Analyzing image ./ct_us/train/train_109.png\n",
      "Analyzing image ./ct_us/train/train_110.png\n",
      "Analyzing image ./ct_us/train/train_111.png\n",
      "Analyzing image ./ct_us/train/train_112.png\n",
      "Analyzing image ./ct_us/train/train_113.png\n",
      "Analyzing image ./ct_us/train/train_114.png\n",
      "Analyzing image ./ct_us/train/train_115.png\n",
      "Analyzing image ./ct_us/train/train_116.png\n",
      "Analyzing image ./ct_us/train/train_117.png\n",
      "Analyzing image ./ct_us/train/train_118.png\n",
      "Analyzing image ./ct_us/train/train_119.png\n",
      "Analyzing image ./ct_us/train/train_120.png\n"
     ]
    }
   ],
   "source": [
    "number_of_files = len(filenames)\n",
    "\n",
    "distances = [1]\n",
    "#distances = [1,2,3,4,5,6,7]\n",
    "angles = [0, np.pi/4]\n",
    "#angles = [0, np.pi/4, np.pi/2, 3*np.pi/4]\n",
    "feature_all = np.zeros((number_of_files, len(distances) * len(angles)))\n",
    "\n",
    "# Go through all the training images\n",
    "for i in range(number_of_files):\n",
    "    print('Analyzing image {}'.format(filenames[i]))\n",
    "    image = io.imread(filenames[i])\n",
    "    \n",
    "    #comat = greycomatrix(image, , normed=True, symmetric=True)\n",
    "    comat = greycomatrix(image, distances, angles, normed=True, symmetric=True)\n",
    "    # 1. Include other measures\n",
    "    # * energy\n",
    "    # * contrast\n",
    "    # * dissimilarity\n",
    "    # * homogeneity\n",
    "    # * ASM\n",
    "    # * correlation\n",
    "    feature = greycoprops(comat, 'energy')\n",
    "    \n",
    "    feature_all[i] = feature.ravel()\n"
   ]
  },
  {
   "cell_type": "code",
   "execution_count": 148,
   "metadata": {},
   "outputs": [
    {
     "data": {
      "text/plain": [
       "<matplotlib.collections.PathCollection at 0x7ff46b37cba8>"
      ]
     },
     "execution_count": 148,
     "metadata": {},
     "output_type": "execute_result"
    },
    {
     "data": {
      "image/png": "[encoded data removed]",
      "text/plain": [
       "<Figure size 432x288 with 1 Axes>"
      ]
     },
     "metadata": {
      "needs_background": "light"
     },
     "output_type": "display_data"
    }
   ],
   "source": [
    "colors = ['red' if label_train[i] else 'blue' for i in range(number_of_files)]\n",
    "plt.scatter(feature_all[:,0], feature_all[:,1], c = colors, label = label_train)"
   ]
  },
  {
   "cell_type": "code",
   "execution_count": 149,
   "metadata": {},
   "outputs": [
    {
     "name": "stdout",
     "output_type": "stream",
     "text": [
      "[0 1 1 0 0 0 0 1 0 0 1 1 0 1 0 0 0 1 0 1 0 0 1 1 0 1 0 0 1 1 0 0 0 0 1 0 0\n",
      " 0 0 1 1 1 0 0 0 1 1 1 0 1 0 1 0 0 1 1 0 0 0 0 1 1 0 0 0 0 0 0 1 1 0 1 1 1\n",
      " 1 1 1 0 1 1 0 0 0 1 1 1 1 0 0 1 0 1 0 1 1 1 0 1 0 0 1 1 0 1 0 0 1 0 1 0 1\n",
      " 1 1 1 0 1 0 1 1 1]\n",
      "[1 1 1 1 1 1 1 1 1 1 1 1 1 1 1 1 1 1 1 1 1 1 1 1 1 1 1 1 1 1 1 1 1 1 1 1 1\n",
      " 1 1 1 1 1 1 1 1 1 1 1 1 1 1 1 1 1 1 1 1 1 1 1 0 0 0 0 0 0 0 0 0 0 0 0 0 0\n",
      " 0 0 0 0 0 0 0 0 0 0 0 0 0 0 0 0 0 0 0 0 0 0 0 0 0 0 0 0 0 0 0 0 0 0 0 0 0\n",
      " 0 0 0 0 0 0 0 0 0]\n",
      "The classification accuracy is: 0.4083333333333333\n",
      "The classification accuracy is: 0.5916666666666667\n"
     ]
    }
   ],
   "source": [
    "#X = np.concatenate((contrast_all, energy_all), axis=1)\n",
    "#X = energy_all\n",
    "\n",
    "# https://scikit-learn.org/stable/modules/generated/sklearn.cluster.KMeans.html\n",
    "kmeans = KMeans(n_clusters=2, random_state=0).fit(feature_all)\n",
    "\n",
    "print(kmeans.labels_)\n",
    "print(label_train)\n",
    "\n",
    "print('The classification accuracy is: {}'.format(accuracy_score(label_train, kmeans.labels_)))\n",
    "print('The classification accuracy is: {}'.format(accuracy_score(label_train, 1 - kmeans.labels_)))"
   ]
  },
  {
   "cell_type": "code",
   "execution_count": null,
   "metadata": {},
   "outputs": [],
   "source": []
  }
 ],
 "metadata": {
  "kernelspec": {
   "display_name": "Python 3",
   "language": "python",
   "name": "python3"
  },
  "language_info": {
   "codemirror_mode": {
    "name": "ipython",
    "version": 3
   },
   "file_extension": ".py",
   "mimetype": "text/x-python",
   "name": "python",
   "nbconvert_exporter": "python",
   "pygments_lexer": "ipython3",
   "version": "3.7.3"
  }
 },
 "nbformat": 4,
 "nbformat_minor": 2
}
