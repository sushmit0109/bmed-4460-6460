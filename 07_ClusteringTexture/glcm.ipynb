{
 "cells": [
  {
   "cell_type": "code",
   "execution_count": 162,
   "metadata": {},
   "outputs": [],
   "source": [
    "# ******************************************\n",
    "# yanrpi @2021\n",
    "# ******************************************\n",
    "\n",
    "import matplotlib.pyplot as plt\n",
    "\n",
    "import numpy as np\n",
    "\n",
    "from skimage import io\n",
    "from skimage.feature import greycomatrix, greycoprops\n",
    "\n",
    "from sklearn.cluster import KMeans\n",
    "from sklearn.metrics import accuracy_score\n",
    "\n",
    "import os\n",
    "from os import path"
   ]
  },
  {
   "cell_type": "code",
   "execution_count": 209,
   "metadata": {},
   "outputs": [
    {
     "name": "stdout",
     "output_type": "stream",
     "text": [
      "(120,)\n"
     ]
    }
   ],
   "source": [
    "label_train = np.loadtxt('./ct_us/train.txt', dtype='int')\n",
    "print(label_train.shape)\n",
    "number_of_training = label_train.shape[0]\n",
    "\n",
    "folder_train = './ct_us/train'\n",
    "\n",
    "filenames = [path.join(folder_train, 'train_{}.png'.format(i+1)) for i in range(number_of_training)]\n",
    "#print(filenames)\n"
   ]
  },
  {
   "cell_type": "code",
   "execution_count": 206,
   "metadata": {
    "scrolled": false
   },
   "outputs": [
    {
     "name": "stdout",
     "output_type": "stream",
     "text": [
      "./ct_us/train/train_9.png\n",
      "0 255\n",
      "(256, 256, 3, 5)\n"
     ]
    },
    {
     "data": {
      "image/png": "[encoded data removed]",
      "text/plain": [
       "<Figure size 432x288 with 1 Axes>"
      ]
     },
     "metadata": {
      "needs_background": "light"
     },
     "output_type": "display_data"
    },
    {
     "data": {
      "image/png": "[encoded data removed]",
      "text/plain": [
       "<Figure size 432x288 with 15 Axes>"
      ]
     },
     "metadata": {
      "needs_background": "light"
     },
     "output_type": "display_data"
    }
   ],
   "source": [
    "filename = filenames[8]\n",
    "image = io.imread(filename)\n",
    "print(filename)\n",
    "\n",
    "plt.imshow(image, cmap='gray')\n",
    "print(image.min(), image.max())\n",
    "\n",
    "# 1.a GLCM\n",
    "# https://scikit-image.org/docs/dev/api/skimage.feature.html?highlight=greycomatrix#skimage.feature.greycomatrix\n",
    "comat = greycomatrix(image, [1,2,3], [0, np.pi/4, np.pi/2, 3*np.pi/4, np.pi], normed=True, symmetric=True)\n",
    "comat[0:5,0:5,:,:] = 0 # Suppress background pixels\n",
    "#comat /= comat.max()\n",
    "print(comat.shape)\n",
    "#print(comat[:,:,0,0])\n",
    "\n",
    "#print(comat[:,:,0,0])\n",
    "\n",
    "plt.figure()\n",
    "for i in range(3):\n",
    "    for j in range(5):\n",
    "        plt.subplot(3, 5, i*5 + j + 1)\n",
    "        plt.imshow(comat[:,:,i,j])\n",
    "        \n",
    "# 1.b Compute distances between two matrices (comat)"
   ]
  },
  {
   "cell_type": "code",
   "execution_count": 87,
   "metadata": {},
   "outputs": [
    {
     "name": "stdout",
     "output_type": "stream",
     "text": [
      "(3, 4)\n",
      "[[1164.06979167  625.83350676  723.69895833  626.46097815]\n",
      " [1463.83836207 1151.97666667 1015.02047414 1121.37666667]\n",
      " [1601.04464286 1363.74554102 1106.97433036 1331.75980975]]\n",
      "[[0.02591637 0.02589985 0.02572727 0.02598333]\n",
      " [0.02571573 0.0262702  0.02592933 0.0262702 ]\n",
      " [0.02612656 0.02654829 0.02668088 0.02691851]]\n"
     ]
    }
   ],
   "source": [
    "# https://scikit-image.org/docs/dev/api/skimage.feature.html?highlight=greycoprops#skimage.feature.greycoprops\n",
    "contrast = greycoprops(comat, 'contrast')\n",
    "energy = greycoprops(comat, 'energy')\n",
    "\n",
    "print(contrast.shape)\n",
    "print(contrast)\n",
    "print(energy)"
   ]
  },
  {
   "cell_type": "code",
   "execution_count": 207,
   "metadata": {},
   "outputs": [],
   "source": [
    "number_of_files = len(filenames)\n",
    "\n",
    "distances = [1]\n",
    "#distances = [1,2,3,4,5,6,7]\n",
    "angles = [0, np.pi/4]\n",
    "#angles = [0, np.pi/4, np.pi/2, 3*np.pi/4]\n",
    "feature_all = np.zeros((number_of_files, len(distances) * len(angles)))\n",
    "\n",
    "# Go through all the training images\n",
    "for i in range(number_of_files):\n",
    "    #print('Analyzing image {}'.format(filenames[i]))\n",
    "    image = io.imread(filenames[i])\n",
    "    \n",
    "    #comat = greycomatrix(image, , normed=True, symmetric=True)\n",
    "    comat = greycomatrix(image, distances, angles, normed=True, symmetric=True)\n",
    "    comat[0:5,0:5] = 0 # Remove background influence\n",
    "    \n",
    "    # 2. Include other measures\n",
    "    # * energy\n",
    "    # * contrast\n",
    "    # * dissimilarity\n",
    "    # * homogeneity\n",
    "    # * ASM\n",
    "    # * correlation\n",
    "    feature = greycoprops(comat, 'correlation')\n",
    "    \n",
    "    feature_all[i] = feature.ravel()\n"
   ]
  },
  {
   "cell_type": "code",
   "execution_count": 208,
   "metadata": {},
   "outputs": [],
   "source": [
    "#colors = ['red' if label_train[i] else 'blue' for i in range(number_of_files)]\n",
    "#plt.scatter(feature_all[:,0], feature_all[:,1], c = colors, label = label_train)"
   ]
  },
  {
   "cell_type": "code",
   "execution_count": 198,
   "metadata": {},
   "outputs": [
    {
     "name": "stdout",
     "output_type": "stream",
     "text": [
      "[0 1 0 0 0 0 0 1 0 0 0 0 0 1 0 1 0 0 0 0 0 1 1 0 0 0 0 0 0 0 0 0 0 0 0 0 0\n",
      " 0 0 1 1 0 0 0 0 1 0 0 0 0 0 0 0 0 0 0 0 0 0 0 1 0 0 0 0 0 0 0 1 0 0 1 0 0\n",
      " 0 0 0 0 0 0 0 0 0 1 0 1 0 0 1 1 0 0 0 1 1 1 0 0 0 0 0 1 0 0 0 1 0 0 0 0 1\n",
      " 0 0 0 0 0 0 0 0 0]\n",
      "[1 1 1 1 1 1 1 1 1 1 1 1 1 1 1 1 1 1 1 1 1 1 1 1 1 1 1 1 1 1 1 1 1 1 1 1 1\n",
      " 1 1 1 1 1 1 1 1 1 1 1 1 1 1 1 1 1 1 1 1 1 1 1 0 0 0 0 0 0 0 0 0 0 0 0 0 0\n",
      " 0 0 0 0 0 0 0 0 0 0 0 0 0 0 0 0 0 0 0 0 0 0 0 0 0 0 0 0 0 0 0 0 0 0 0 0 0\n",
      " 0 0 0 0 0 0 0 0 0]\n",
      "The classification accuracy is: 0.4666666666666667\n",
      "The classification accuracy is: 0.5333333333333333\n"
     ]
    }
   ],
   "source": [
    "#X = np.concatenate((contrast_all, energy_all), axis=1)\n",
    "#X = energy_all\n",
    "\n",
    "# https://scikit-learn.org/stable/modules/generated/sklearn.cluster.KMeans.html\n",
    "kmeans = KMeans(n_clusters=2, random_state=0).fit(feature_all)\n",
    "\n",
    "print(kmeans.labels_)\n",
    "print(label_train)\n",
    "\n",
    "print('The classification accuracy is: {}'.format(accuracy_score(label_train, kmeans.labels_)))\n",
    "print('The classification accuracy is: {}'.format(accuracy_score(label_train, 1 - kmeans.labels_)))"
   ]
  },
  {
   "cell_type": "code",
   "execution_count": null,
   "metadata": {},
   "outputs": [],
   "source": []
  }
 ],
 "metadata": {
  "kernelspec": {
   "display_name": "Python 3",
   "language": "python",
   "name": "python3"
  },
  "language_info": {
   "codemirror_mode": {
    "name": "ipython",
    "version": 3
   },
   "file_extension": ".py",
   "mimetype": "text/x-python",
   "name": "python",
   "nbconvert_exporter": "python",
   "pygments_lexer": "ipython3",
   "version": "3.7.3"
  }
 },
 "nbformat": 4,
 "nbformat_minor": 2
}
